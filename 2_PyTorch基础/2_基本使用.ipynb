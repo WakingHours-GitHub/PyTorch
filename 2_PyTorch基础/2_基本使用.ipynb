{
 "cells": [
  {
   "cell_type": "code",
   "execution_count": 1,
   "id": "4934797d",
   "metadata": {},
   "outputs": [],
   "source": [
    "import torch\n"
   ]
  },
  {
   "cell_type": "code",
   "execution_count": 4,
   "id": "10d2a42f",
   "metadata": {},
   "outputs": [
    {
     "data": {
      "text/plain": [
       "tensor([[-1.4465,  0.2991, -0.7022],\n",
       "        [ 1.3699,  0.3138, -0.3262]])"
      ]
     },
     "execution_count": 4,
     "metadata": {},
     "output_type": "execute_result"
    }
   ],
   "source": [
    "# 生成一个符合正态分布的随机数矩阵, 矩阵大小(2, 3)\n",
    "a = torch.randn(2, 3)\n",
    "a # 这也是动态图的优点, 直接运行"
   ]
  },
  {
   "cell_type": "code",
   "execution_count": 5,
   "id": "c12a3a52",
   "metadata": {},
   "outputs": [
    {
     "data": {
      "text/plain": [
       "'torch.FloatTensor'"
      ]
     },
     "execution_count": 5,
     "metadata": {},
     "output_type": "execute_result"
    }
   ],
   "source": [
    "a.type()"
   ]
  },
  {
   "cell_type": "code",
   "execution_count": 7,
   "id": "a21bc6ed",
   "metadata": {},
   "outputs": [
    {
     "data": {
      "text/plain": [
       "torch.Tensor"
      ]
     },
     "execution_count": 7,
     "metadata": {},
     "output_type": "execute_result"
    }
   ],
   "source": [
    "type(a) # 只打印出一个基本的信息"
   ]
  },
  {
   "cell_type": "code",
   "execution_count": 9,
   "id": "c3b237ee",
   "metadata": {},
   "outputs": [
    {
     "data": {
      "text/plain": [
       "True"
      ]
     },
     "execution_count": 9,
     "metadata": {},
     "output_type": "execute_result"
    }
   ],
   "source": [
    "isinstance(a,torch.FloatTensor) # 用来做检验"
   ]
  },
  {
   "cell_type": "code",
   "execution_count": 12,
   "id": "6a4d284d",
   "metadata": {},
   "outputs": [
    {
     "data": {
      "text/plain": [
       "False"
      ]
     },
     "execution_count": 12,
     "metadata": {},
     "output_type": "execute_result"
    }
   ],
   "source": [
    "isinstance(a, torch.cuda.FloatTensor) # False"
   ]
  },
  {
   "cell_type": "code",
   "execution_count": 14,
   "id": "b23120c6",
   "metadata": {},
   "outputs": [
    {
     "data": {
      "text/plain": [
       "True"
      ]
     },
     "execution_count": 14,
     "metadata": {},
     "output_type": "execute_result"
    }
   ],
   "source": [
    "# 此时我们可以将数据转换\n",
    "# 从CPU -> GPU:\n",
    "a_gpu = a.cuda() # 返回一个GPU上面的引用\n",
    "isinstance(a_gpu, torch.cuda.FloatTensor) # "
   ]
  },
  {
   "cell_type": "code",
   "execution_count": 17,
   "id": "6051877b",
   "metadata": {},
   "outputs": [
    {
     "data": {
      "text/plain": [
       "tensor(10.)"
      ]
     },
     "execution_count": 17,
     "metadata": {},
     "output_type": "execute_result"
    }
   ],
   "source": [
    "b = torch.tensor(10.0)\n",
    "b"
   ]
  },
  {
   "cell_type": "code",
   "execution_count": 20,
   "id": "66c72e19",
   "metadata": {},
   "outputs": [
    {
     "data": {
      "text/plain": [
       "torch.Size([])"
      ]
     },
     "execution_count": 20,
     "metadata": {},
     "output_type": "execute_result"
    }
   ],
   "source": [
    "# 属性:\n",
    "b.shape # torch.Size([])\n",
    "# 是一个空list的size"
   ]
  },
  {
   "cell_type": "code",
   "execution_count": 28,
   "id": "a5ed3b14",
   "metadata": {},
   "outputs": [
    {
     "data": {
      "text/plain": [
       "0"
      ]
     },
     "execution_count": 28,
     "metadata": {},
     "output_type": "execute_result"
    }
   ],
   "source": [
    "# 计算维度:\n",
    "len(b.shape)\n",
    "b.dim()"
   ]
  },
  {
   "cell_type": "code",
   "execution_count": 27,
   "id": "b25f9335",
   "metadata": {},
   "outputs": [
    {
     "data": {
      "text/plain": [
       "torch.Size([])"
      ]
     },
     "execution_count": 27,
     "metadata": {},
     "output_type": "execute_result"
    }
   ],
   "source": [
    "# 注意, size()是方法, 不是属性 \n",
    "b.size()\n"
   ]
  },
  {
   "cell_type": "code",
   "execution_count": 31,
   "id": "b27b85f8",
   "metadata": {},
   "outputs": [
    {
     "data": {
      "text/plain": [
       "tensor([1., 1.])"
      ]
     },
     "execution_count": 31,
     "metadata": {},
     "output_type": "execute_result"
    }
   ],
   "source": [
    "# 创建一阶Tensor\n",
    "a = torch.ones(2)\n",
    "a # tensor([1., 1.])"
   ]
  },
  {
   "cell_type": "code",
   "execution_count": 32,
   "id": "dde80f1c",
   "metadata": {},
   "outputs": [
    {
     "data": {
      "text/plain": [
       "torch.Size([2])"
      ]
     },
     "execution_count": 32,
     "metadata": {},
     "output_type": "execute_result"
    }
   ],
   "source": [
    "a.shape # torch.Size([2])"
   ]
  },
  {
   "cell_type": "code",
   "execution_count": 39,
   "id": "0bc74819",
   "metadata": {},
   "outputs": [
    {
     "data": {
      "text/plain": [
       "torch.Size([2])"
      ]
     },
     "execution_count": 39,
     "metadata": {},
     "output_type": "execute_result"
    }
   ],
   "source": [
    "a.size()"
   ]
  },
  {
   "cell_type": "code",
   "execution_count": 40,
   "id": "596e2869",
   "metadata": {},
   "outputs": [
    {
     "data": {
      "text/plain": [
       "tensor([[-1.7881,  0.8048, -1.3497],\n",
       "        [ 0.5926,  0.3034, -2.2694]])"
      ]
     },
     "execution_count": 40,
     "metadata": {},
     "output_type": "execute_result"
    }
   ],
   "source": [
    "# Dim 2, 二阶张量\n",
    "a = torch.randn(2, 3)\n",
    "a"
   ]
  },
  {
   "cell_type": "code",
   "execution_count": 41,
   "id": "b0be7566",
   "metadata": {},
   "outputs": [
    {
     "data": {
      "text/plain": [
       "torch.Size([2, 3])"
      ]
     },
     "execution_count": 41,
     "metadata": {},
     "output_type": "execute_result"
    }
   ],
   "source": [
    "a.shape"
   ]
  },
  {
   "cell_type": "code",
   "execution_count": 46,
   "id": "176c1cb4",
   "metadata": {},
   "outputs": [
    {
     "data": {
      "text/plain": [
       "3"
      ]
     },
     "execution_count": 46,
     "metadata": {},
     "output_type": "execute_result"
    }
   ],
   "source": [
    "a.size(1) # 通过索引获取对应维度的值"
   ]
  },
  {
   "cell_type": "code",
   "execution_count": 48,
   "id": "125b773d",
   "metadata": {},
   "outputs": [
    {
     "data": {
      "text/plain": [
       "3"
      ]
     },
     "execution_count": 48,
     "metadata": {},
     "output_type": "execute_result"
    }
   ],
   "source": [
    "a.shape[1] # 注意这里shape是索引[] "
   ]
  },
  {
   "cell_type": "code",
   "execution_count": 50,
   "id": "91f27f25",
   "metadata": {},
   "outputs": [
    {
     "data": {
      "text/plain": [
       "tensor([[[0.0647, 0.6055, 0.7591],\n",
       "         [0.5759, 0.9538, 0.5353]]])"
      ]
     },
     "execution_count": 50,
     "metadata": {},
     "output_type": "execute_result"
    }
   ],
   "source": [
    "# 创建三维Tensor\n",
    "a = torch.rand(1, 2, 3)\n",
    "a"
   ]
  },
  {
   "cell_type": "code",
   "execution_count": 51,
   "id": "65bc32ff",
   "metadata": {},
   "outputs": [
    {
     "data": {
      "text/plain": [
       "torch.Size([1, 2, 3])"
      ]
     },
     "execution_count": 51,
     "metadata": {},
     "output_type": "execute_result"
    }
   ],
   "source": [
    "a.shape"
   ]
  },
  {
   "cell_type": "code",
   "execution_count": 53,
   "id": "fba985f6",
   "metadata": {},
   "outputs": [
    {
     "data": {
      "text/plain": [
       "tensor([[0.0647, 0.6055, 0.7591],\n",
       "        [0.5759, 0.9538, 0.5353]])"
      ]
     },
     "execution_count": 53,
     "metadata": {},
     "output_type": "execute_result"
    }
   ],
   "source": [
    "a[0] # 取出第一个维度"
   ]
  },
  {
   "cell_type": "code",
   "execution_count": 54,
   "id": "918d91a4",
   "metadata": {},
   "outputs": [
    {
     "data": {
      "text/plain": [
       "[1, 2, 3]"
      ]
     },
     "execution_count": 54,
     "metadata": {},
     "output_type": "execute_result"
    }
   ],
   "source": [
    "list(a.shape)\n",
    "# 这样可以将size类型转换为list类型\n"
   ]
  },
  {
   "cell_type": "code",
   "execution_count": 56,
   "id": "2a2cfd71",
   "metadata": {},
   "outputs": [
    {
     "data": {
      "text/plain": [
       "tensor([[[[0.8210, 0.5992, 0.9582,  ..., 0.9232, 0.8171, 0.0424],\n",
       "          [0.7305, 0.0583, 0.4450,  ..., 0.6454, 0.0126, 0.6548],\n",
       "          [0.1072, 0.7661, 0.4749,  ..., 0.3411, 0.2497, 0.7363],\n",
       "          ...,\n",
       "          [0.3627, 0.3750, 0.4811,  ..., 0.5490, 0.7321, 0.2644],\n",
       "          [0.8853, 0.5905, 0.1615,  ..., 0.5665, 0.4945, 0.1020],\n",
       "          [0.2686, 0.0613, 0.9400,  ..., 0.8664, 0.9799, 0.1032]],\n",
       "\n",
       "         [[0.0699, 0.9441, 0.5132,  ..., 0.1213, 0.5312, 0.7838],\n",
       "          [0.7960, 0.0149, 0.9131,  ..., 0.0479, 0.9470, 0.1359],\n",
       "          [0.3696, 0.6634, 0.1975,  ..., 0.5772, 0.5867, 0.3704],\n",
       "          ...,\n",
       "          [0.5296, 0.1282, 0.4126,  ..., 0.8862, 0.6103, 0.5560],\n",
       "          [0.1058, 0.3310, 0.4927,  ..., 0.0615, 0.4394, 0.1574],\n",
       "          [0.8211, 0.8111, 0.5772,  ..., 0.6857, 0.7561, 0.4820]],\n",
       "\n",
       "         [[0.4468, 0.4589, 0.6212,  ..., 0.2372, 0.3656, 0.2101],\n",
       "          [0.9508, 0.6042, 0.7255,  ..., 0.7208, 0.7605, 0.4060],\n",
       "          [0.2652, 0.5197, 0.5923,  ..., 0.6153, 0.7129, 0.8601],\n",
       "          ...,\n",
       "          [0.9270, 0.1849, 0.0297,  ..., 0.5010, 0.4721, 0.1028],\n",
       "          [0.2274, 0.0162, 0.7767,  ..., 0.5524, 0.2537, 0.5103],\n",
       "          [0.6724, 0.6234, 0.2582,  ..., 0.3753, 0.5491, 0.0892]]],\n",
       "\n",
       "\n",
       "        [[[0.6824, 0.2116, 0.4318,  ..., 0.4120, 0.8313, 0.6989],\n",
       "          [0.6364, 0.4105, 0.6931,  ..., 0.3287, 0.6790, 0.7910],\n",
       "          [0.0060, 0.4174, 0.1153,  ..., 0.4065, 0.9607, 0.2747],\n",
       "          ...,\n",
       "          [0.2836, 0.5779, 0.5900,  ..., 0.0985, 0.1092, 0.0309],\n",
       "          [0.0654, 0.8917, 0.8500,  ..., 0.5007, 0.8588, 0.2407],\n",
       "          [0.7836, 0.2219, 0.8433,  ..., 0.3768, 0.7540, 0.8670]],\n",
       "\n",
       "         [[0.2714, 0.4298, 0.3907,  ..., 0.2153, 0.4609, 0.1654],\n",
       "          [0.8963, 0.2084, 0.5088,  ..., 0.5376, 0.4834, 0.1308],\n",
       "          [0.8889, 0.2542, 0.2984,  ..., 0.6138, 0.1000, 0.2059],\n",
       "          ...,\n",
       "          [0.4883, 0.4311, 0.6461,  ..., 0.1043, 0.4700, 0.2376],\n",
       "          [0.1500, 0.6646, 0.3132,  ..., 0.6077, 0.2353, 0.6965],\n",
       "          [0.3094, 0.1048, 0.3240,  ..., 0.1493, 0.6942, 0.7979]],\n",
       "\n",
       "         [[0.1240, 0.8520, 0.2266,  ..., 0.8288, 0.2466, 0.3590],\n",
       "          [0.8004, 0.1495, 0.6143,  ..., 0.4990, 0.7329, 0.9554],\n",
       "          [0.2805, 0.4546, 0.7157,  ..., 0.8683, 0.7675, 0.5700],\n",
       "          ...,\n",
       "          [0.9630, 0.9191, 0.9947,  ..., 0.7985, 0.9661, 0.4677],\n",
       "          [0.3095, 0.5738, 0.1990,  ..., 0.8749, 0.8806, 0.0713],\n",
       "          [0.0991, 0.4990, 0.0085,  ..., 0.7410, 0.6297, 0.6013]]]])"
      ]
     },
     "execution_count": 56,
     "metadata": {},
     "output_type": "execute_result"
    }
   ],
   "source": [
    "# 创建四阶张量\n",
    "a = torch.rand(2, 3, 28, 28)\n",
    "a"
   ]
  },
  {
   "cell_type": "code",
   "execution_count": 57,
   "id": "cde29d33",
   "metadata": {},
   "outputs": [
    {
     "data": {
      "text/plain": [
       "torch.Size([2, 3, 28, 28])"
      ]
     },
     "execution_count": 57,
     "metadata": {},
     "output_type": "execute_result"
    }
   ],
   "source": [
    "a.shape"
   ]
  },
  {
   "cell_type": "code",
   "execution_count": 58,
   "id": "dd9b5ca8",
   "metadata": {},
   "outputs": [
    {
     "data": {
      "text/plain": [
       "4704"
      ]
     },
     "execution_count": 58,
     "metadata": {},
     "output_type": "execute_result"
    }
   ],
   "source": [
    "a.numel() # 2*3*28*28\n"
   ]
  },
  {
   "cell_type": "code",
   "execution_count": null,
   "id": "b6d12901",
   "metadata": {},
   "outputs": [],
   "source": []
  }
 ],
 "metadata": {
  "kernelspec": {
   "display_name": "Python 3 (ipykernel)",
   "language": "python",
   "name": "python3"
  },
  "language_info": {
   "codemirror_mode": {
    "name": "ipython",
    "version": 3
   },
   "file_extension": ".py",
   "mimetype": "text/x-python",
   "name": "python",
   "nbconvert_exporter": "python",
   "pygments_lexer": "ipython3",
   "version": "3.9.9"
  },
  "latex_envs": {
   "LaTeX_envs_menu_present": true,
   "autoclose": false,
   "autocomplete": true,
   "bibliofile": "biblio.bib",
   "cite_by": "apalike",
   "current_citInitial": 1,
   "eqLabelWithNumbers": true,
   "eqNumInitial": 1,
   "hotkeys": {
    "equation": "Ctrl-E",
    "itemize": "Ctrl-I"
   },
   "labels_anchors": false,
   "latex_user_defs": false,
   "report_style_numbering": false,
   "user_envs_cfg": false
  }
 },
 "nbformat": 4,
 "nbformat_minor": 5
}
